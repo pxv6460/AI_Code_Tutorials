{
 "cells": [
  {
   "cell_type": "code",
   "execution_count": 1,
   "id": "730b8dfc-b08e-442f-8019-d9d984bbf561",
   "metadata": {},
   "outputs": [
    {
     "name": "stdout",
     "output_type": "stream",
     "text": [
      "cuda\n"
     ]
    }
   ],
   "source": [
    "import torch\n",
    "# find out what below means \n",
    "device = 'cuda' if torch.cuda.is_available() else 'cpu'\n",
    "print(device)\n",
    "block_size = 8 \n",
    "batch_size = 4"
   ]
  },
  {
   "cell_type": "code",
   "execution_count": 2,
   "id": "ebf7e88c-f453-4fd0-895b-d700ed93f100",
   "metadata": {},
   "outputs": [
    {
     "name": "stdout",
     "output_type": "stream",
     "text": [
      "['\\n', ' ', '!', '(', ')', '*', ',', '-', '.', '0', '1', '2', '3', '4', '5', '6', '7', '8', '9', ':', ';', '?', 'A', 'B', 'C', 'D', 'E', 'F', 'G', 'H', 'I', 'J', 'K', 'L', 'M', 'N', 'O', 'P', 'Q', 'R', 'S', 'T', 'U', 'V', 'W', 'X', 'Y', '_', 'a', 'b', 'c', 'd', 'e', 'f', 'g', 'h', 'i', 'j', 'k', 'l', 'm', 'n', 'o', 'p', 'q', 'r', 's', 't', 'u', 'v', 'w', 'x', 'y', 'z', '—', '‘', '’', '“', '”', '′', '″', '\\ufeff']\n"
     ]
    },
    {
     "data": {
      "text/plain": [
       "82"
      ]
     },
     "execution_count": 2,
     "metadata": {},
     "output_type": "execute_result"
    }
   ],
   "source": [
    "with open('../Res/treasureisland.txt', 'r', encoding='utf-8') as t:\n",
    "    text = t.read()\n",
    "chars = sorted(set(text))\n",
    "print(chars)\n",
    "length_c = len(chars)\n",
    "length_c"
   ]
  },
  {
   "cell_type": "code",
   "execution_count": 3,
   "id": "96ffe7fb-9518-488f-b18e-31faabba6716",
   "metadata": {},
   "outputs": [
    {
     "name": "stdout",
     "output_type": "stream",
     "text": [
      "364644\n"
     ]
    }
   ],
   "source": [
    "print(len(text))"
   ]
  },
  {
   "cell_type": "code",
   "execution_count": 4,
   "id": "35cbad2a-02f9-4415-bebc-7bc7d82f2b4b",
   "metadata": {},
   "outputs": [
    {
     "name": "stdout",
     "output_type": "stream",
     "text": [
      "﻿\n",
      "*** START OF THE PROJECT GUTENBERG EBOOK TREASURE ISLAND ***\n",
      "TREASURE ISLAND\n",
      "\n",
      "by Robert Louis Stevenson\n",
      "\n",
      "\n",
      "\n",
      "\n",
      "TREASURE ISLAND\n",
      "\n",
      "To S.L.O., an American gentleman in accordance with whose classic taste\n",
      "the following narrative has been designed, it is now, in return for\n",
      "numerous delightful hours, and with the kindest wishes, dedicated by his\n",
      "affectionate friend, the author.\n",
      "\n",
      "\n",
      "\n",
      "               TO THE HESITATING PURCHASER\n",
      "\n",
      "               If sailor tales to sailor tunes,\n",
      "                  Storm and adventure, heat and cold,\n",
      "               If schooners, islands, and maroons,\n",
      "                  And buccaneers, and buried gold,\n",
      "               And all the old romance, retold\n",
      "                  Exactly in the ancient way,\n",
      "               Can please, as me they pleased of old,\n",
      "                  The wiser youngsters of today:\n",
      "\n",
      "               --So be it, and fall on!  If not,\n",
      "                  If studious youth no longer crave,\n",
      "               His ancient appetites forgot,\n",
      "                  Kingston, or B\n"
     ]
    }
   ],
   "source": [
    "print(text[:1000])"
   ]
  },
  {
   "cell_type": "code",
   "execution_count": 5,
   "id": "85063e79-3de9-4165-8de3-116a2c932bb3",
   "metadata": {},
   "outputs": [],
   "source": [
    "# #look up after \n",
    "# string_int = { ch:i for i,ch in enumerate(chars) }\n",
    "# int_string = { i:ch for i,ch in enumerate(chars) }\n",
    "# encode = lambda x: [string_int[i] for i in x]\n",
    "# decode = lambda x: ''.join([int_string[i] for i in x])\n",
    "\n",
    "# print(encode(\"hello sir\"))"
   ]
  },
  {
   "cell_type": "code",
   "execution_count": 6,
   "id": "386a7d35-7d90-45a5-9f43-0d9bc2aaa330",
   "metadata": {},
   "outputs": [],
   "source": [
    "\n",
    "string_int_l = {}\n",
    "for i in range(length_c):\n",
    "    ch = chars[i]\n",
    "    string_int_l[ch] = i\n"
   ]
  },
  {
   "cell_type": "code",
   "execution_count": 7,
   "id": "443b560f-20ac-42b5-8911-740363d6ed60",
   "metadata": {},
   "outputs": [],
   "source": [
    "int_string_l = {}\n",
    "for i in range(length_c):\n",
    "    ch = chars[i]\n",
    "    int_string_l[i] = ch"
   ]
  },
  {
   "cell_type": "code",
   "execution_count": 8,
   "id": "a00e15fd-ad29-4f84-8ae4-48b4f72e2075",
   "metadata": {},
   "outputs": [],
   "source": [
    "def encode_l(x):\n",
    "    encoded_lst = []  # Initialize an empty list to store the encoded values\n",
    "    for char in x:\n",
    "        if char in string_int:  # Check if the character exists in the string_int dictionary\n",
    "            encoded_lst.append(string_int_l[char])\n",
    "    return encoded_lst"
   ]
  },
  {
   "cell_type": "code",
   "execution_count": 9,
   "id": "a1ff3fed-5676-4449-b455-f14bd333148b",
   "metadata": {},
   "outputs": [],
   "source": [
    "def decode_l(x):\n",
    "    decoded_str = ''  # Initialize an empty string to store the decoded characters\n",
    "    for num in x:\n",
    "        if num in int_string_l:  # Check if the number exists in the int_string dictionary\n",
    "            decoded_str += int_string_l[num]\n",
    "    return decoded_str"
   ]
  },
  {
   "cell_type": "code",
   "execution_count": 10,
   "id": "57a700d1-27aa-4ef7-9ec2-9e099a7b4ae1",
   "metadata": {},
   "outputs": [
    {
     "ename": "NameError",
     "evalue": "name 'string_int' is not defined",
     "output_type": "error",
     "traceback": [
      "\u001b[1;31m---------------------------------------------------------------------------\u001b[0m",
      "\u001b[1;31mNameError\u001b[0m                                 Traceback (most recent call last)",
      "Cell \u001b[1;32mIn[10], line 1\u001b[0m\n\u001b[1;32m----> 1\u001b[0m data \u001b[38;5;241m=\u001b[39m torch\u001b[38;5;241m.\u001b[39mtensor(encode_l(text), dtype \u001b[38;5;241m=\u001b[39m torch\u001b[38;5;241m.\u001b[39mlong)\n\u001b[0;32m      2\u001b[0m \u001b[38;5;28mprint\u001b[39m(data[:\u001b[38;5;241m1000\u001b[39m])\n",
      "Cell \u001b[1;32mIn[8], line 4\u001b[0m, in \u001b[0;36mencode_l\u001b[1;34m(x)\u001b[0m\n\u001b[0;32m      2\u001b[0m encoded_lst \u001b[38;5;241m=\u001b[39m []  \u001b[38;5;66;03m# Initialize an empty list to store the encoded values\u001b[39;00m\n\u001b[0;32m      3\u001b[0m \u001b[38;5;28;01mfor\u001b[39;00m char \u001b[38;5;129;01min\u001b[39;00m x:\n\u001b[1;32m----> 4\u001b[0m     \u001b[38;5;28;01mif\u001b[39;00m char \u001b[38;5;129;01min\u001b[39;00m string_int:  \u001b[38;5;66;03m# Check if the character exists in the string_int dictionary\u001b[39;00m\n\u001b[0;32m      5\u001b[0m         encoded_lst\u001b[38;5;241m.\u001b[39mappend(string_int[char])\n\u001b[0;32m      6\u001b[0m \u001b[38;5;28;01mreturn\u001b[39;00m encoded_lst\n",
      "\u001b[1;31mNameError\u001b[0m: name 'string_int' is not defined"
     ]
    }
   ],
   "source": [
    "data = torch.tensor(encode_l(text), dtype = torch.long)\n",
    "print(data[:1000])"
   ]
  },
  {
   "cell_type": "code",
   "execution_count": null,
   "id": "61093c0d-715b-4e9d-91a8-880d184d35a1",
   "metadata": {},
   "outputs": [],
   "source": [
    "## this is the same process as train_test_split\n",
    "n = int(.75*len(data))\n",
    "train = data[:n]\n",
    "test = data[n:]"
   ]
  },
  {
   "cell_type": "code",
   "execution_count": null,
   "id": "de8d420f-cd39-4af3-8ccb-530c9a4c1e49",
   "metadata": {},
   "outputs": [],
   "source": [
    "block_size = 8 \n",
    "\n",
    "X = train[:block_size]\n",
    "y = train[1:block_size+1]\n",
    "\n",
    "for i in range(block_size):\n",
    "    context = X[:i+1]\n",
    "    target = y[i]\n",
    "    print(f\"when input is {context} target is {target}\")"
   ]
  },
  {
   "cell_type": "code",
   "execution_count": null,
   "id": "8e3107db-a2fb-457c-9af2-e7f5b672ff82",
   "metadata": {},
   "outputs": [],
   "source": []
  }
 ],
 "metadata": {
  "kernelspec": {
   "display_name": "Cuda-gpt",
   "language": "python",
   "name": "cuda"
  },
  "language_info": {
   "codemirror_mode": {
    "name": "ipython",
    "version": 3
   },
   "file_extension": ".py",
   "mimetype": "text/x-python",
   "name": "python",
   "nbconvert_exporter": "python",
   "pygments_lexer": "ipython3",
   "version": "3.11.7"
  }
 },
 "nbformat": 4,
 "nbformat_minor": 5
}
