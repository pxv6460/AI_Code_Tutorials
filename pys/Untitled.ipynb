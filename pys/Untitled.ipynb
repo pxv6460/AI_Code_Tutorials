{
 "cells": [
  {
   "cell_type": "code",
   "execution_count": 1,
   "id": "730b8dfc-b08e-442f-8019-d9d984bbf561",
   "metadata": {},
   "outputs": [
    {
     "name": "stdout",
     "output_type": "stream",
     "text": [
      "cuda\n"
     ]
    }
   ],
   "source": [
    "import torch\n",
    "# find out what below means \n",
    "device = 'cuda' if torch.cuda.is_available() else 'cpu'\n",
    "print(device)\n",
    "block_size = 8 \n",
    "batch_size = 4"
   ]
  },
  {
   "cell_type": "code",
   "execution_count": 2,
   "id": "ebf7e88c-f453-4fd0-895b-d700ed93f100",
   "metadata": {},
   "outputs": [
    {
     "name": "stdout",
     "output_type": "stream",
     "text": [
      "['\\n', ' ', '!', '(', ')', '*', ',', '-', '.', '0', '1', '2', '3', '4', '5', '6', '7', '8', '9', ':', ';', '?', 'A', 'B', 'C', 'D', 'E', 'F', 'G', 'H', 'I', 'J', 'K', 'L', 'M', 'N', 'O', 'P', 'Q', 'R', 'S', 'T', 'U', 'V', 'W', 'X', 'Y', '_', 'a', 'b', 'c', 'd', 'e', 'f', 'g', 'h', 'i', 'j', 'k', 'l', 'm', 'n', 'o', 'p', 'q', 'r', 's', 't', 'u', 'v', 'w', 'x', 'y', 'z', '—', '‘', '’', '“', '”', '′', '″', '\\ufeff']\n"
     ]
    },
    {
     "data": {
      "text/plain": [
       "82"
      ]
     },
     "execution_count": 2,
     "metadata": {},
     "output_type": "execute_result"
    }
   ],
   "source": [
    "with open('../Res/treasureisland.txt', 'r', encoding='utf-8') as t:\n",
    "    text = t.read()\n",
    "chars = sorted(set(text))\n",
    "print(chars)\n",
    "length_c = len(chars)\n",
    "length_c"
   ]
  },
  {
   "cell_type": "code",
   "execution_count": 3,
   "id": "96ffe7fb-9518-488f-b18e-31faabba6716",
   "metadata": {},
   "outputs": [
    {
     "name": "stdout",
     "output_type": "stream",
     "text": [
      "364644\n"
     ]
    }
   ],
   "source": [
    "print(len(text))"
   ]
  },
  {
   "cell_type": "code",
   "execution_count": 4,
   "id": "35cbad2a-02f9-4415-bebc-7bc7d82f2b4b",
   "metadata": {},
   "outputs": [
    {
     "name": "stdout",
     "output_type": "stream",
     "text": [
      "﻿\n",
      "*** START OF THE PROJECT GUTENBERG EBOOK TREASURE ISLAND ***\n",
      "TREASURE ISLAND\n",
      "\n",
      "by Robert Louis Stevenson\n",
      "\n",
      "\n",
      "\n",
      "\n",
      "TREASURE ISLAND\n",
      "\n",
      "To S.L.O., an American gentleman in accordance with whose classic taste\n",
      "the following narrative has been designed, it is now, in return for\n",
      "numerous delightful hours, and with the kindest wishes, dedicated by his\n",
      "affectionate friend, the author.\n",
      "\n",
      "\n",
      "\n",
      "               TO THE HESITATING PURCHASER\n",
      "\n",
      "               If sailor tales to sailor tunes,\n",
      "                  Storm and adventure, heat and cold,\n",
      "               If schooners, islands, and maroons,\n",
      "                  And buccaneers, and buried gold,\n",
      "               And all the old romance, retold\n",
      "                  Exactly in the ancient way,\n",
      "               Can please, as me they pleased of old,\n",
      "                  The wiser youngsters of today:\n",
      "\n",
      "               --So be it, and fall on!  If not,\n",
      "                  If studious youth no longer crave,\n",
      "               His ancient appetites forgot,\n",
      "                  Kingston, or B\n"
     ]
    }
   ],
   "source": [
    "print(text[:1000])"
   ]
  },
  {
   "cell_type": "code",
   "execution_count": 5,
   "id": "85063e79-3de9-4165-8de3-116a2c932bb3",
   "metadata": {},
   "outputs": [],
   "source": [
    "# #look up after \n",
    "# string_int = { ch:i for i,ch in enumerate(chars) }\n",
    "# int_string = { i:ch for i,ch in enumerate(chars) }\n",
    "# encode = lambda x: [string_int[i] for i in x]\n",
    "# decode = lambda x: ''.join([int_string[i] for i in x])\n",
    "\n",
    "# print(encode(\"hello sir\"))"
   ]
  },
  {
   "cell_type": "code",
   "execution_count": 11,
   "id": "386a7d35-7d90-45a5-9f43-0d9bc2aaa330",
   "metadata": {},
   "outputs": [],
   "source": [
    "\n",
    "string_int_l = {}\n",
    "for i in range(length_c):\n",
    "    ch = chars[i]\n",
    "    string_int_l[ch] = i\n"
   ]
  },
  {
   "cell_type": "code",
   "execution_count": 12,
   "id": "443b560f-20ac-42b5-8911-740363d6ed60",
   "metadata": {},
   "outputs": [],
   "source": [
    "int_string_l = {}\n",
    "for i in range(length_c):\n",
    "    ch = chars[i]\n",
    "    int_string_l[i] = ch"
   ]
  },
  {
   "cell_type": "code",
   "execution_count": 13,
   "id": "a00e15fd-ad29-4f84-8ae4-48b4f72e2075",
   "metadata": {},
   "outputs": [],
   "source": [
    "def encode_l(x):\n",
    "    encoded_lst = []  # Initialize an empty list to store the encoded values\n",
    "    for char in x:\n",
    "        if char in string_int_l:  # Check if the character exists in the string_int dictionary\n",
    "            encoded_lst.append(string_int_l[char])\n",
    "    return encoded_lst"
   ]
  },
  {
   "cell_type": "code",
   "execution_count": 14,
   "id": "a1ff3fed-5676-4449-b455-f14bd333148b",
   "metadata": {},
   "outputs": [],
   "source": [
    "def decode_l(x):\n",
    "    decoded_str = ''  # Initialize an empty string to store the decoded characters\n",
    "    for num in x:\n",
    "        if num in int_string_l:  # Check if the number exists in the int_string dictionary\n",
    "            decoded_str += int_string_l[num]\n",
    "    return decoded_str"
   ]
  },
  {
   "cell_type": "code",
   "execution_count": 15,
   "id": "57a700d1-27aa-4ef7-9ec2-9e099a7b4ae1",
   "metadata": {},
   "outputs": [
    {
     "name": "stdout",
     "output_type": "stream",
     "text": [
      "tensor([81,  0,  5,  5,  5,  1, 40, 41, 22, 39, 41,  1, 36, 27,  1, 41, 29, 26,\n",
      "         1, 37, 39, 36, 31, 26, 24, 41,  1, 28, 42, 41, 26, 35, 23, 26, 39, 28,\n",
      "         1, 26, 23, 36, 36, 32,  1, 41, 39, 26, 22, 40, 42, 39, 26,  1, 30, 40,\n",
      "        33, 22, 35, 25,  1,  5,  5,  5,  0, 41, 39, 26, 22, 40, 42, 39, 26,  1,\n",
      "        30, 40, 33, 22, 35, 25,  0,  0, 49, 72,  1, 39, 62, 49, 52, 65, 67,  1,\n",
      "        33, 62, 68, 56, 66,  1, 40, 67, 52, 69, 52, 61, 66, 62, 61,  0,  0,  0,\n",
      "         0,  0, 41, 39, 26, 22, 40, 42, 39, 26,  1, 30, 40, 33, 22, 35, 25,  0,\n",
      "         0, 41, 62,  1, 40,  8, 33,  8, 36,  8,  6,  1, 48, 61,  1, 22, 60, 52,\n",
      "        65, 56, 50, 48, 61,  1, 54, 52, 61, 67, 59, 52, 60, 48, 61,  1, 56, 61,\n",
      "         1, 48, 50, 50, 62, 65, 51, 48, 61, 50, 52,  1, 70, 56, 67, 55,  1, 70,\n",
      "        55, 62, 66, 52,  1, 50, 59, 48, 66, 66, 56, 50,  1, 67, 48, 66, 67, 52,\n",
      "         0, 67, 55, 52,  1, 53, 62, 59, 59, 62, 70, 56, 61, 54,  1, 61, 48, 65,\n",
      "        65, 48, 67, 56, 69, 52,  1, 55, 48, 66,  1, 49, 52, 52, 61,  1, 51, 52,\n",
      "        66, 56, 54, 61, 52, 51,  6,  1, 56, 67,  1, 56, 66,  1, 61, 62, 70,  6,\n",
      "         1, 56, 61,  1, 65, 52, 67, 68, 65, 61,  1, 53, 62, 65,  0, 61, 68, 60,\n",
      "        52, 65, 62, 68, 66,  1, 51, 52, 59, 56, 54, 55, 67, 53, 68, 59,  1, 55,\n",
      "        62, 68, 65, 66,  6,  1, 48, 61, 51,  1, 70, 56, 67, 55,  1, 67, 55, 52,\n",
      "         1, 58, 56, 61, 51, 52, 66, 67,  1, 70, 56, 66, 55, 52, 66,  6,  1, 51,\n",
      "        52, 51, 56, 50, 48, 67, 52, 51,  1, 49, 72,  1, 55, 56, 66,  0, 48, 53,\n",
      "        53, 52, 50, 67, 56, 62, 61, 48, 67, 52,  1, 53, 65, 56, 52, 61, 51,  6,\n",
      "         1, 67, 55, 52,  1, 48, 68, 67, 55, 62, 65,  8,  0,  0,  0,  0,  1,  1,\n",
      "         1,  1,  1,  1,  1,  1,  1,  1,  1,  1,  1,  1,  1, 41, 36,  1, 41, 29,\n",
      "        26,  1, 29, 26, 40, 30, 41, 22, 41, 30, 35, 28,  1, 37, 42, 39, 24, 29,\n",
      "        22, 40, 26, 39,  0,  0,  1,  1,  1,  1,  1,  1,  1,  1,  1,  1,  1,  1,\n",
      "         1,  1,  1, 30, 53,  1, 66, 48, 56, 59, 62, 65,  1, 67, 48, 59, 52, 66,\n",
      "         1, 67, 62,  1, 66, 48, 56, 59, 62, 65,  1, 67, 68, 61, 52, 66,  6,  0,\n",
      "         1,  1,  1,  1,  1,  1,  1,  1,  1,  1,  1,  1,  1,  1,  1,  1,  1,  1,\n",
      "        40, 67, 62, 65, 60,  1, 48, 61, 51,  1, 48, 51, 69, 52, 61, 67, 68, 65,\n",
      "        52,  6,  1, 55, 52, 48, 67,  1, 48, 61, 51,  1, 50, 62, 59, 51,  6,  0,\n",
      "         1,  1,  1,  1,  1,  1,  1,  1,  1,  1,  1,  1,  1,  1,  1, 30, 53,  1,\n",
      "        66, 50, 55, 62, 62, 61, 52, 65, 66,  6,  1, 56, 66, 59, 48, 61, 51, 66,\n",
      "         6,  1, 48, 61, 51,  1, 60, 48, 65, 62, 62, 61, 66,  6,  0,  1,  1,  1,\n",
      "         1,  1,  1,  1,  1,  1,  1,  1,  1,  1,  1,  1,  1,  1,  1, 22, 61, 51,\n",
      "         1, 49, 68, 50, 50, 48, 61, 52, 52, 65, 66,  6,  1, 48, 61, 51,  1, 49,\n",
      "        68, 65, 56, 52, 51,  1, 54, 62, 59, 51,  6,  0,  1,  1,  1,  1,  1,  1,\n",
      "         1,  1,  1,  1,  1,  1,  1,  1,  1, 22, 61, 51,  1, 48, 59, 59,  1, 67,\n",
      "        55, 52,  1, 62, 59, 51,  1, 65, 62, 60, 48, 61, 50, 52,  6,  1, 65, 52,\n",
      "        67, 62, 59, 51,  0,  1,  1,  1,  1,  1,  1,  1,  1,  1,  1,  1,  1,  1,\n",
      "         1,  1,  1,  1,  1, 26, 71, 48, 50, 67, 59, 72,  1, 56, 61,  1, 67, 55,\n",
      "        52,  1, 48, 61, 50, 56, 52, 61, 67,  1, 70, 48, 72,  6,  0,  1,  1,  1,\n",
      "         1,  1,  1,  1,  1,  1,  1,  1,  1,  1,  1,  1, 24, 48, 61,  1, 63, 59,\n",
      "        52, 48, 66, 52,  6,  1, 48, 66,  1, 60, 52,  1, 67, 55, 52, 72,  1, 63,\n",
      "        59, 52, 48, 66, 52, 51,  1, 62, 53,  1, 62, 59, 51,  6,  0,  1,  1,  1,\n",
      "         1,  1,  1,  1,  1,  1,  1,  1,  1,  1,  1,  1,  1,  1,  1, 41, 55, 52,\n",
      "         1, 70, 56, 66, 52, 65,  1, 72, 62, 68, 61, 54, 66, 67, 52, 65, 66,  1,\n",
      "        62, 53,  1, 67, 62, 51, 48, 72, 19,  0,  0,  1,  1,  1,  1,  1,  1,  1,\n",
      "         1,  1,  1,  1,  1,  1,  1,  1,  7,  7, 40, 62,  1, 49, 52,  1, 56, 67,\n",
      "         6,  1, 48, 61, 51,  1, 53, 48, 59, 59,  1, 62, 61,  2,  1,  1, 30, 53,\n",
      "         1, 61, 62, 67,  6,  0,  1,  1,  1,  1,  1,  1,  1,  1,  1,  1,  1,  1,\n",
      "         1,  1,  1,  1,  1,  1, 30, 53,  1, 66, 67, 68, 51, 56, 62, 68, 66,  1,\n",
      "        72, 62, 68, 67, 55,  1, 61, 62,  1, 59, 62, 61, 54, 52, 65,  1, 50, 65,\n",
      "        48, 69, 52,  6,  0,  1,  1,  1,  1,  1,  1,  1,  1,  1,  1,  1,  1,  1,\n",
      "         1,  1, 29, 56, 66,  1, 48, 61, 50, 56, 52, 61, 67,  1, 48, 63, 63, 52,\n",
      "        67, 56, 67, 52, 66,  1, 53, 62, 65, 54, 62, 67,  6,  0,  1,  1,  1,  1,\n",
      "         1,  1,  1,  1,  1,  1,  1,  1,  1,  1,  1,  1,  1,  1, 32, 56, 61, 54,\n",
      "        66, 67, 62, 61,  6,  1, 62, 65,  1, 23])\n"
     ]
    }
   ],
   "source": [
    "data = torch.tensor(encode_l(text), dtype = torch.long)\n",
    "print(data[:1000])"
   ]
  },
  {
   "cell_type": "code",
   "execution_count": 16,
   "id": "61093c0d-715b-4e9d-91a8-880d184d35a1",
   "metadata": {},
   "outputs": [],
   "source": [
    "## this is the same process as train_test_split\n",
    "n = int(.75*len(data))\n",
    "train = data[:n]\n",
    "test = data[n:]"
   ]
  },
  {
   "cell_type": "code",
   "execution_count": 17,
   "id": "de8d420f-cd39-4af3-8ccb-530c9a4c1e49",
   "metadata": {},
   "outputs": [
    {
     "name": "stdout",
     "output_type": "stream",
     "text": [
      "when input is tensor([81]) target is 0\n",
      "when input is tensor([81,  0]) target is 5\n",
      "when input is tensor([81,  0,  5]) target is 5\n",
      "when input is tensor([81,  0,  5,  5]) target is 5\n",
      "when input is tensor([81,  0,  5,  5,  5]) target is 1\n",
      "when input is tensor([81,  0,  5,  5,  5,  1]) target is 40\n",
      "when input is tensor([81,  0,  5,  5,  5,  1, 40]) target is 41\n",
      "when input is tensor([81,  0,  5,  5,  5,  1, 40, 41]) target is 22\n"
     ]
    }
   ],
   "source": [
    "block_size = 8 \n",
    "\n",
    "X = train[:block_size]\n",
    "y = train[1:block_size+1]\n",
    "\n",
    "for i in range(block_size):\n",
    "    context = X[:i+1]\n",
    "    target = y[i]\n",
    "    print(f\"when input is {context} target is {target}\")"
   ]
  },
  {
   "cell_type": "code",
   "execution_count": null,
   "id": "8e3107db-a2fb-457c-9af2-e7f5b672ff82",
   "metadata": {},
   "outputs": [],
   "source": []
  }
 ],
 "metadata": {
  "kernelspec": {
   "display_name": "Cuda-gpt",
   "language": "python",
   "name": "cuda"
  },
  "language_info": {
   "codemirror_mode": {
    "name": "ipython",
    "version": 3
   },
   "file_extension": ".py",
   "mimetype": "text/x-python",
   "name": "python",
   "nbconvert_exporter": "python",
   "pygments_lexer": "ipython3",
   "version": "3.11.7"
  }
 },
 "nbformat": 4,
 "nbformat_minor": 5
}
